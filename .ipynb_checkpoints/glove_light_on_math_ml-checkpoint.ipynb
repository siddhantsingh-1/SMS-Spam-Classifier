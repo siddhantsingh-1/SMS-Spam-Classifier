{
 "cells": [
  {
   "cell_type": "code",
   "execution_count": 5,
   "metadata": {},
   "outputs": [],
   "source": [
    "import tensorflow as tf\n",
    "from tensorflow.keras.preprocessing.text import Tokenizer\n",
    "from tensorflow.keras.layers import Dense, Embedding, Input, Add, Dot, Reshape, Flatten\n",
    "from tensorflow.keras.optimizers import Adam\n",
    "from tensorflow.keras.preprocessing.sequence import skipgrams\n",
    "from tensorflow.keras.models import Model, load_model\n",
    "\n",
    "import tarfile\n",
    "from urllib.request import urlretrieve\n",
    "import os\n",
    "import nltk\n",
    "from scipy.sparse import csr_matrix, lil_matrix\n",
    "import numpy as np\n",
    "from scipy.sparse import save_npz, load_npz\n",
    "from tensorflow.keras import backend as K\n",
    "import random\n",
    "import matplotlib.pyplot as plt\n",
    "from tensorflow.keras.utils import plot_model\n",
    "import pandas as pd\n",
    "%matplotlib inline"
   ]
  },
  {
   "cell_type": "markdown",
   "metadata": {},
   "source": [
    "## Reading in the data"
   ]
  },
  {
   "cell_type": "code",
   "execution_count": 6,
   "metadata": {},
   "outputs": [
    {
     "data": {
      "text/html": [
       "<div>\n",
       "<style scoped>\n",
       "    .dataframe tbody tr th:only-of-type {\n",
       "        vertical-align: middle;\n",
       "    }\n",
       "\n",
       "    .dataframe tbody tr th {\n",
       "        vertical-align: top;\n",
       "    }\n",
       "\n",
       "    .dataframe thead th {\n",
       "        text-align: right;\n",
       "    }\n",
       "</style>\n",
       "<table border=\"1\" class=\"dataframe\">\n",
       "  <thead>\n",
       "    <tr style=\"text-align: right;\">\n",
       "      <th></th>\n",
       "      <th>label</th>\n",
       "      <th>message</th>\n",
       "    </tr>\n",
       "  </thead>\n",
       "  <tbody>\n",
       "    <tr>\n",
       "      <th>0</th>\n",
       "      <td>ham</td>\n",
       "      <td>Go until jurong point, crazy.. Available only ...</td>\n",
       "    </tr>\n",
       "    <tr>\n",
       "      <th>1</th>\n",
       "      <td>ham</td>\n",
       "      <td>Ok lar... Joking wif u oni...</td>\n",
       "    </tr>\n",
       "    <tr>\n",
       "      <th>2</th>\n",
       "      <td>spam</td>\n",
       "      <td>Free entry in 2 a wkly comp to win FA Cup fina...</td>\n",
       "    </tr>\n",
       "    <tr>\n",
       "      <th>3</th>\n",
       "      <td>ham</td>\n",
       "      <td>U dun say so early hor... U c already then say...</td>\n",
       "    </tr>\n",
       "    <tr>\n",
       "      <th>4</th>\n",
       "      <td>ham</td>\n",
       "      <td>Nah I don't think he goes to usf, he lives aro...</td>\n",
       "    </tr>\n",
       "  </tbody>\n",
       "</table>\n",
       "</div>"
      ],
      "text/plain": [
       "  label                                            message\n",
       "0   ham  Go until jurong point, crazy.. Available only ...\n",
       "1   ham                      Ok lar... Joking wif u oni...\n",
       "2  spam  Free entry in 2 a wkly comp to win FA Cup fina...\n",
       "3   ham  U dun say so early hor... U c already then say...\n",
       "4   ham  Nah I don't think he goes to usf, he lives aro..."
      ]
     },
     "execution_count": 6,
     "metadata": {},
     "output_type": "execute_result"
    }
   ],
   "source": [
    "# Loading the dataset\n",
    "df = pd.read_csv(r\"Spam SMS Collection.txt\", sep='\\t', names=['label', 'message'])\n",
    "df.head()"
   ]
  },
  {
   "cell_type": "code",
   "execution_count": 7,
   "metadata": {},
   "outputs": [],
   "source": [
    "docs = df['message'].tolist()"
   ]
  },
  {
   "cell_type": "markdown",
   "metadata": {},
   "source": [
    "## Defining the tokenizer"
   ]
  },
  {
   "cell_type": "code",
   "execution_count": 23,
   "metadata": {},
   "outputs": [
    {
     "name": "stdout",
     "output_type": "stream",
     "text": [
      "<keras_preprocessing.text.Tokenizer object at 0x000001CEC248FC40>\n"
     ]
    }
   ],
   "source": [
    "v_size = 3000\n",
    "tokenizer = Tokenizer(num_words=v_size, oov_token='UNK')\n",
    "tokenizer.fit_on_texts(docs)\n",
    "print(tokenizer)"
   ]
  },
  {
   "cell_type": "markdown",
   "metadata": {},
   "source": [
    "## Computing the co-occurence matrix\n",
    "\n",
    "Computes the co-occurence matrix and save it to the disk can either load the existing matrix or compute a new one by changing `generate_cooc` variable."
   ]
  },
  {
   "cell_type": "code",
   "execution_count": 27,
   "metadata": {},
   "outputs": [],
   "source": [
    "generate_cooc = True\n",
    "def generate_cooc_matrix(text, tokenizer, window_size, n_vocab, use_weighting=True):\n",
    "    sequences = tokenizer.texts_to_sequences(text)\n",
    "    \n",
    "    cooc_mat = lil_matrix((n_vocab, n_vocab), dtype=np.float32)\n",
    "    for sequence in sequences:\n",
    "        for i, wi in zip(np.arange(window_size, len(sequence)-window_size), sequence[window_size:-window_size]):\n",
    "            context_window = sequence[i-window_size: i+window_size+1]\n",
    "            distances = np.abs(np.arange(-window_size, window_size+1))\n",
    "            distances[window_size] = 1.0\n",
    "            nom = np.ones(shape=(window_size*2 + 1,), dtype=np.float32)\n",
    "            nom[window_size] = 0.0\n",
    "\n",
    "            if use_weighting:\n",
    "                cooc_mat[wi, context_window] += nom/distances    # Update element\n",
    "            else:\n",
    "                cooc_mat[wi, context_window] += nom\n",
    "    \n",
    "    return cooc_mat    \n",
    "\n",
    "if generate_cooc:\n",
    "    cooc_mat = generate_cooc_matrix(docs, tokenizer, 4, v_size, True)\n",
    "    save_npz(r\"C:\\Users\\dashs\\Documents\\NLP\\cooc.npz\", cooc_mat.tocsr())\n",
    "else:\n",
    "    cooc_mat = load_npz(r\"C:\\Users\\dashs\\Documents\\NLP\\cooc.npz\").tolil()\n",
    "    print('Cooc matrix of type {} was loaded from disk'.format(type(cooc_mat).__name__))"
   ]
  },
  {
   "cell_type": "markdown",
   "metadata": {},
   "source": [
    "## Validating the co-occurrence matrix\n",
    "Taking a specific word and plotting the frequencies of the most common 15 co-occurinng words. Making sure that the word distribution makes sense (Zif's law) and the co-occuring words are valid (visually)"
   ]
  },
  {
   "cell_type": "code",
   "execution_count": 28,
   "metadata": {},
   "outputs": [
    {
     "data": {
      "text/plain": [
       "([<matplotlib.axis.XTick at 0x1cec16ea700>,\n",
       "  <matplotlib.axis.XTick at 0x1cec16ea850>,\n",
       "  <matplotlib.axis.XTick at 0x1cec2972d90>,\n",
       "  <matplotlib.axis.XTick at 0x1cec24af970>,\n",
       "  <matplotlib.axis.XTick at 0x1cec24aff40>,\n",
       "  <matplotlib.axis.XTick at 0x1cec24aea00>,\n",
       "  <matplotlib.axis.XTick at 0x1cec24614f0>,\n",
       "  <matplotlib.axis.XTick at 0x1cec2461fa0>,\n",
       "  <matplotlib.axis.XTick at 0x1cec248ca90>,\n",
       "  <matplotlib.axis.XTick at 0x1cec24ae460>,\n",
       "  <matplotlib.axis.XTick at 0x1cec24664f0>,\n",
       "  <matplotlib.axis.XTick at 0x1cec2466fa0>,\n",
       "  <matplotlib.axis.XTick at 0x1cec036ba90>,\n",
       "  <matplotlib.axis.XTick at 0x1cec0372580>,\n",
       "  <matplotlib.axis.XTick at 0x1cec036b190>],\n",
       " [Text(0, 0, 'students'),\n",
       "  Text(1, 0, 'house'),\n",
       "  Text(2, 0, 'dog'),\n",
       "  Text(3, 0, 'another'),\n",
       "  Text(4, 0, 'if'),\n",
       "  Text(5, 0, 'the'),\n",
       "  Text(6, 0, 'to'),\n",
       "  Text(7, 0, 'UNK'),\n",
       "  Text(8, 0, 'question'),\n",
       "  Text(9, 0, 'or'),\n",
       "  Text(10, 0, 'wanted'),\n",
       "  Text(11, 0, 'has'),\n",
       "  Text(12, 0, 'this'),\n",
       "  Text(13, 0, 'in'),\n",
       "  Text(14, 0, 'my')])"
      ]
     },
     "execution_count": 28,
     "metadata": {},
     "output_type": "execute_result"
    },
    {
     "data": {
      "image/png": "[encoded data removed]",
      "text/plain": [
       "<Figure size 1600x800 with 1 Axes>"
      ]
     },
     "metadata": {},
     "output_type": "display_data"
    }
   ],
   "source": [
    "word = 'cat'\n",
    "assert word in tokenizer.word_index, 'Word {} is not in the tokenizer'.format(word)\n",
    "assert tokenizer.word_index[word] <= v_size, 'The word {} is an out of vocabuary word. Please try something else'.format(word)\n",
    "\n",
    "rev_word_index = dict(zip(tokenizer.word_index.values(), tokenizer.word_index.keys()))\n",
    "\n",
    "cooc_vec = np.array(cooc_mat.getrow(tokenizer.word_index[word]).todense()).ravel()\n",
    "max_ind = np.argsort(cooc_vec)[-15:]\n",
    "#print(max_ind)\n",
    "plt.figure(figsize=(16,8))\n",
    "plt.bar(np.arange(0, 15), cooc_vec[max_ind])\n",
    "plt.xticks(ticks=np.arange(0, 15), labels=[rev_word_index[i] for i in max_ind], rotation=60)"
   ]
  },
  {
   "cell_type": "markdown",
   "metadata": {},
   "source": [
    "## Defining GloVe model with Keras\n",
    "\n",
    "In order to define the GloVe model, a custom loss function is required. However, GloVe loss essentially boils down to a mean square error, which makes it easier to define as a custom loss function. Let's have a quick look. GloVe loss is defined as,\n",
    "\n",
    "$J = \\sum_{i,j=1}^{V} f(X_{ij})(w_i^T\\tilde{w}_j + b_i + \\tilde{b}_j - log(X_{ij}))^2$\n",
    "\n",
    "where $X_{ij}$ is the $i,j$ cell of the co-occurence matrix and $w,\\tilde{w},b,\\tilde{b}$ are weights and biases. For a full explanation refer the [original paper](https://nlp.stanford.edu/pubs/glove.pdf). When you play around with parenthesis you will start seeing the squared loss.\n",
    "\n",
    "$J = \\sum_{i,j=1}^{V} f(X_{ij})\\{(w_i^T\\tilde{w}_j + b_i + \\tilde{b}_j) - log(X_{ij})\\}^2$, \n",
    "\n",
    "which is like,\n",
    "\n",
    "$J = \\sum A ( B - C)^2$\n"
   ]
  },
  {
   "cell_type": "code",
   "execution_count": 31,
   "metadata": {},
   "outputs": [],
   "source": [
    "def create_glove_model(v_size):\n",
    "    \n",
    "    w_i = Input(shape=(1,))\n",
    "    w_j = Input(shape=(1,))\n",
    "\n",
    "    emb_i = Flatten()(Embedding(v_size, 96, input_length=1)(w_i))\n",
    "    emb_j = Flatten()(Embedding(v_size, 96, input_length=1)(w_j))\n",
    "\n",
    "    ij_dot = Dot(axes=-1)([emb_i,emb_j])\n",
    "    \n",
    "    b_i = Flatten()(\n",
    "        Embedding(v_size, 1, input_length=1)(w_i)\n",
    "    )\n",
    "    b_j = Flatten()(\n",
    "        Embedding(v_size, 1, input_length=1)(w_j)\n",
    "    )\n",
    "\n",
    "    pred = Add()([ij_dot, b_i, b_j])\n",
    "\n",
    "    def glove_loss(y_true, y_pred):\n",
    "        return K.sum(\n",
    "            K.pow((y_true-1)/100.0, 0.75)*K.square(y_pred - K.log(y_true))\n",
    "        )\n",
    "\n",
    "    model = Model(inputs=[w_i, w_j],outputs=pred)\n",
    "    model.compile(loss=glove_loss, optimizer = tf.keras.optimizers.Adam(epsilon = 0.0001))\n",
    "    return model\n"
   ]
  },
  {
   "cell_type": "markdown",
   "metadata": {},
   "source": [
    "## Clearning session and analysing the model"
   ]
  },
  {
   "cell_type": "code",
   "execution_count": 32,
   "metadata": {},
   "outputs": [
    {
     "name": "stdout",
     "output_type": "stream",
     "text": [
      "Model: \"functional_1\"\n",
      "__________________________________________________________________________________________________\n",
      "Layer (type)                    Output Shape         Param #     Connected to                     \n",
      "==================================================================================================\n",
      "input_1 (InputLayer)            [(None, 1)]          0                                            \n",
      "__________________________________________________________________________________________________\n",
      "input_2 (InputLayer)            [(None, 1)]          0                                            \n",
      "__________________________________________________________________________________________________\n",
      "embedding (Embedding)           (None, 1, 96)        288000      input_1[0][0]                    \n",
      "__________________________________________________________________________________________________\n",
      "embedding_1 (Embedding)         (None, 1, 96)        288000      input_2[0][0]                    \n",
      "__________________________________________________________________________________________________\n",
      "flatten (Flatten)               (None, 96)           0           embedding[0][0]                  \n",
      "__________________________________________________________________________________________________\n",
      "flatten_1 (Flatten)             (None, 96)           0           embedding_1[0][0]                \n",
      "__________________________________________________________________________________________________\n",
      "embedding_2 (Embedding)         (None, 1, 1)         3000        input_1[0][0]                    \n",
      "__________________________________________________________________________________________________\n",
      "embedding_3 (Embedding)         (None, 1, 1)         3000        input_2[0][0]                    \n",
      "__________________________________________________________________________________________________\n",
      "dot (Dot)                       (None, 1)            0           flatten[0][0]                    \n",
      "                                                                 flatten_1[0][0]                  \n",
      "__________________________________________________________________________________________________\n",
      "flatten_2 (Flatten)             (None, 1)            0           embedding_2[0][0]                \n",
      "__________________________________________________________________________________________________\n",
      "flatten_3 (Flatten)             (None, 1)            0           embedding_3[0][0]                \n",
      "__________________________________________________________________________________________________\n",
      "add (Add)                       (None, 1)            0           dot[0][0]                        \n",
      "                                                                 flatten_2[0][0]                  \n",
      "                                                                 flatten_3[0][0]                  \n",
      "==================================================================================================\n",
      "Total params: 582,000\n",
      "Trainable params: 582,000\n",
      "Non-trainable params: 0\n",
      "__________________________________________________________________________________________________\n"
     ]
    }
   ],
   "source": [
    "K.clear_session()\n",
    "model = create_glove_model(v_size)\n",
    "model.summary()"
   ]
  },
  {
   "cell_type": "markdown",
   "metadata": {},
   "source": [
    "## Run and eval Glove¶"
   ]
  },
  {
   "cell_type": "code",
   "execution_count": 36,
   "metadata": {},
   "outputs": [
    {
     "name": "stdout",
     "output_type": "stream",
     "text": [
      "Loss in epoch 0: 0.9961193495826174\n",
      "Loss in epoch 1: 0.2536140798719253\n",
      "Loss in epoch 2: 0.1371385949737081\n",
      "Loss in epoch 3: 0.10618060081504062\n",
      "Loss in epoch 4: 0.0885588030675325\n",
      "Loss in epoch 5: 0.07539376172845112\n",
      "Loss in epoch 6: 0.07406782168595073\n",
      "Loss in epoch 7: 0.0681259283780392\n",
      "Loss in epoch 8: 0.0647993949045462\n",
      "Loss in epoch 9: 0.06292642631845578\n"
     ]
    }
   ],
   "source": [
    "cooc_mat = load_npz(r\"C:\\Users\\dashs\\Documents\\NLP\\cooc.npz\")\n",
    "batch_size =128\n",
    "copy_docs = list(docs)\n",
    "index2word = dict(zip(tokenizer.word_index.values(), tokenizer.word_index.keys()))\n",
    "\"\"\" Each epoch \"\"\"\n",
    "for ep in range(10):\n",
    "    \n",
    "    #valid_words = get_valid_words(docs, 20, tokenizer)\n",
    "    \n",
    "    random.shuffle(copy_docs)\n",
    "    losses = []\n",
    "    \"\"\" Each document \"\"\"\n",
    "    for doc in copy_docs:\n",
    "        \n",
    "        seq = tokenizer.texts_to_sequences([doc])[0]\n",
    "\n",
    "        \"\"\" Getting skip-gram data \"\"\"\n",
    "        # Negative samples are automatically sampled by tf loss function\n",
    "        wpairs, labels = skipgrams(\n",
    "            sequence=seq, vocabulary_size=v_size, negative_samples=0.0, shuffle=True\n",
    "        )\n",
    "        \n",
    "        if len(wpairs)==0:\n",
    "            continue\n",
    "\n",
    "        sg_in, sg_out = zip(*wpairs)\n",
    "        sg_in, sg_out = np.array(sg_in).reshape(-1,1), np.array(sg_out).reshape(-1,1)\n",
    "        x_ij = np.array(cooc_mat[sg_in[:,0], sg_out[:,0]]).reshape(-1,1) + 1\n",
    "        \n",
    "        assert np.all(np.array(labels)==1)\n",
    "        assert x_ij.shape[0] == sg_in.shape[0], 'X_ij {} shape does not sg_in {}'.format(x_ij.shape, sg_in.shape)\n",
    "        \"\"\" For each batch in the dataset \"\"\"\n",
    "        model.fit([sg_in, sg_out], x_ij, batch_size = batch_size, epochs=1, verbose=0)\n",
    "        l = model.evaluate([sg_in, sg_out], x_ij, batch_size=batch_size, verbose=0)\n",
    "        losses.append(l)\n",
    "    print('Loss in epoch {}: {}'.format(ep, np.mean(losses)))\n"
   ]
  },
  {
   "cell_type": "markdown",
   "metadata": {},
   "source": [
    "## Saving the model and the embeddings to the disk"
   ]
  },
  {
   "cell_type": "code",
   "execution_count": 37,
   "metadata": {},
   "outputs": [],
   "source": [
    "def save_embeddings(model,save_dir, tok, v_size):\n",
    "    \"\"\" Saving data to disk \"\"\"\n",
    "    \n",
    "    # We need to add the 0th index to word list manually\n",
    "    word_list = [\"RESERVED\"]+[tok.index_word[w_i] for w_i in range(1,v_size)]\n",
    "    emb_w_df = None\n",
    "    for layer in model.layers:\n",
    "        if 'embedding' == layer.name or 'embedding_1' == layer.name:\n",
    "            if emb_w_df is None:\n",
    "                emb_w_df = pd.DataFrame(layer.get_weights()[0])\n",
    "            else:\n",
    "                emb_w_df += layer.get_weights()[0]\n",
    "    \n",
    "    emb_w_df.insert(0, \"word\", word_list)\n",
    "            \n",
    "    emb_w_df.to_csv(\n",
    "        os.path.join(save_dir, 'embeddings_w.csv'), index=False, header=None\n",
    "    )\n",
    "    \n",
    "save_embeddings(model, r\"C:\\Users\\dashs\\Documents\\NLP\", tokenizer, v_size)\n",
    "model.save('glove_model.h5')"
   ]
  },
  {
   "cell_type": "markdown",
   "metadata": {},
   "source": [
    "## Printing out some similar words of a set of valid words"
   ]
  },
  {
   "cell_type": "code",
   "execution_count": 39,
   "metadata": {},
   "outputs": [
    {
     "name": "stdout",
     "output_type": "stream",
     "text": [
      "Loading the word embeddings from the disk\n",
      "Embedding shape: (3000, 96)\n",
      "i: and, UNK, you, to, instituitions\n",
      "i: and, UNK, you, to, instituitions\n",
      "a: UNK, personality, have, to, of\n",
      "a: UNK, personality, have, to, of\n",
      "seeing: by, two, holding, replying, gaps\n",
      "seeing: by, two, holding, replying, gaps\n",
      "i: and, UNK, you, to, instituitions\n",
      "i: and, UNK, you, to, instituitions\n",
      "UNK: to, sweetest, the, and, 09061221066\n",
      "UNK: to, sweetest, the, and, 09061221066\n",
      "my: books, UNK, sweetest, and, original\n",
      "lt: gt, rs, decimal, lacs, dollars\n",
      "its: 08707509020, loses, not, just, UNK\n",
      "arng: amt, source, u, dis, c\n",
      "should: be, would, revealed, will, i\n",
      "should: be, would, revealed, will, i\n",
      "have: a, i, you, and, UNK\n",
      "uk: co, getzed, ringtones, pobox, normal\n",
      "first: time, end, bank, under, sight\n",
      "them: meet, kick, maintain, pay, me\n",
      "god: laughed, created, challenge, thank, moral\n",
      "can: if, i, do, fancies, txtin\n",
      "wat: izzit, time, u, dificult, r\n",
      "wat: izzit, time, u, dificult, r\n",
      "every: wk, week, txt, just, mob\n",
      "every: wk, week, txt, just, mob\n",
      "your: UNK, to, 440, on, you\n",
      "you: to, i, and, UNK, that\n",
      "i: and, UNK, you, to, instituitions\n",
      "i: and, UNK, you, to, instituitions\n",
      "poor: relation, wot, r, bcoz, accept\n",
      "of: the, UNK, in, a, sweetest\n",
      "i: and, UNK, you, to, instituitions\n",
      "i: and, UNK, you, to, instituitions\n",
      "UNK: to, sweetest, the, and, 09061221066\n",
      "season: audition, tlp, bold, clock, across\n",
      "i'm: not, anyway, in, so, 08707509020\n",
      "i'm: not, anyway, in, so, 08707509020\n",
      "we: go, stand, neighbour, start, normally\n",
      "we: go, stand, neighbour, start, normally\n",
      "wif: frens, checked, forgot, parents, birthday\n",
      "wif: frens, checked, forgot, parents, birthday\n",
      "v: suprman, clock, maneesha, matrix3, we'd\n",
      "v: suprman, clock, maneesha, matrix3, we'd\n",
      "UNK: to, sweetest, the, and, 09061221066\n",
      "UNK: to, sweetest, the, and, 09061221066\n",
      "oh: often, no, those, road, islands\n",
      "oh: often, no, those, road, islands\n",
      "UNK: to, sweetest, the, and, 09061221066\n",
      "UNK: to, sweetest, the, and, 09061221066\n",
      "and: UNK, i, to, the, you\n",
      "and: UNK, i, to, the, you\n",
      "i: and, UNK, you, to, instituitions\n",
      "i: and, UNK, you, to, instituitions\n",
      "ok: today, it, was, cause, california\n",
      "ok: today, it, was, cause, california\n",
      "i: and, UNK, you, to, instituitions\n",
      "i: and, UNK, you, to, instituitions\n",
      "same: exact, next, sea, world, brothas\n",
      "UNK: to, sweetest, the, and, 09061221066\n",
      "yes: camcorder, or, reply, text, inclusive\n",
      "yes: camcorder, or, reply, text, inclusive\n",
      "UNK: to, sweetest, the, and, 09061221066\n",
      "UNK: to, sweetest, the, and, 09061221066\n",
      "ok: today, it, was, cause, california\n",
      "ok: today, it, was, cause, california\n",
      "feels: heavy, light, very, tough, bright\n",
      "goodmorning: dead, liao, yetunde, tot, magical\n",
      "win: chance, receive, a, couple, £2000\n",
      "std: entry, rate, txt, wap, arcade\n",
      "you: to, i, and, UNK, that\n",
      "you: to, i, and, UNK, that\n",
      "in: UNK, the, sweetest, 09061221066, of\n",
      "in: UNK, the, sweetest, 09061221066, of\n",
      "i: and, UNK, you, to, instituitions\n",
      "u: 2, UNK, r, instituitions, maintain\n",
      "ok: today, it, was, cause, california\n",
      "ok: today, it, was, cause, california\n",
      "do: have, can, if, you, pongal\n",
      "do: have, can, if, you, pongal\n",
      "da: put, stupid, however, txtauction, refused\n",
      "da: put, stupid, however, txtauction, refused\n",
      "us: phne, on, grl, cramps, end\n",
      "us: phne, on, grl, cramps, end\n",
      "yes: camcorder, or, reply, text, inclusive\n",
      "yes: camcorder, or, reply, text, inclusive\n",
      "eggs: purchase, unsold, flat, whats, footprints\n",
      "eggs: purchase, unsold, flat, whats, footprints\n",
      "11: bt, b4, original, fave, bid\n",
      "n: e, original, my, books, lookin\n",
      "per: 10p, min, 60p, 50p, 20p\n",
      "call: from, 86021, 09061209465, 09063458130, now\n",
      "also: murdered, he's, and, shit, laughing\n",
      "also: murdered, he's, and, shit, laughing\n",
      "of: the, UNK, in, a, sweetest\n",
      "of: the, UNK, in, a, sweetest\n",
      "i: and, UNK, you, to, instituitions\n",
      "i: and, UNK, you, to, instituitions\n",
      "a: UNK, personality, have, to, of\n",
      "7pm: ard, bitch, 8th, letters, these\n"
     ]
    }
   ],
   "source": [
    "def get_valid_words(docs, size, tok):\n",
    "    \"\"\" Get a random set of words to check the embeddings \"\"\"\n",
    "    np.random.seed(100)\n",
    "    valid_docs = np.random.choice(docs, size=size//2)\n",
    "    valid_words = []\n",
    "    for doc in valid_docs:\n",
    "        np.random.seed(100)\n",
    "        words = np.random.choice(tok.texts_to_sequences([doc])[0],size=2)\n",
    "        valid_words.extend(words)\n",
    "        \n",
    "    return valid_words\n",
    "        \n",
    "\n",
    "valid_words = get_valid_words(docs, 100, tokenizer)\n",
    "def load_embeddings(filename):\n",
    "    print('Loading the word embeddings from the disk')\n",
    "    embed_df = pd.read_csv(filename, index_col=False, header=None)\n",
    "    embed_df = embed_df.set_index(0)\n",
    "    print('Embedding shape: {}'.format(embed_df.shape))\n",
    "    embed_mat = embed_df.values\n",
    "    words = embed_df.index.values\n",
    "    return embed_mat, words\n",
    "\n",
    "def get_cosine_sim(emb, valid_words, top_k):\n",
    "    norm = np.sqrt(np.sum(emb**2,axis=1,keepdims=True))\n",
    "    norm_emb = emb/norm\n",
    "    in_emb = norm_emb[valid_words,:]\n",
    "    similarity = np.dot(in_emb, np.transpose(norm_emb))\n",
    "    sorted_ind = np.argsort(-similarity, axis=1)[:,1:top_k+1]\n",
    "    return sorted_ind, valid_words\n",
    "\n",
    "embed_mat, words = load_embeddings(os.path.join(r\"C:\\Users\\dashs\\Documents\\NLP\",'embeddings_w.csv'))\n",
    "best_ids, wids = get_cosine_sim(embed_mat, valid_words, 5)\n",
    "#pd.Series(words).to_csv(os.path.join('datasets','index2word.csv'))\n",
    "for w, bi in zip(wids, best_ids):\n",
    "    print(\"{}: {}\".format(words[w], ', '.join(words[bii] for bii in bi)))"
   ]
  },
  {
   "cell_type": "code",
   "execution_count": null,
   "metadata": {},
   "outputs": [],
   "source": []
  }
 ],
 "metadata": {
  "kernelspec": {
   "display_name": "Python 3 (ipykernel)",
   "language": "python",
   "name": "python3"
  },
  "language_info": {
   "codemirror_mode": {
    "name": "ipython",
    "version": 3
   },
   "file_extension": ".py",
   "mimetype": "text/x-python",
   "name": "python",
   "nbconvert_exporter": "python",
   "pygments_lexer": "ipython3",
   "version": "3.10.9"
  }
 },
 "nbformat": 4,
 "nbformat_minor": 2
}
